{
 "cells": [
  {
   "cell_type": "code",
   "execution_count": 4,
   "metadata": {},
   "outputs": [
    {
     "name": "stdout",
     "output_type": "stream",
     "text": [
      "Enter user input with comma separated values and press enter to exit :\n",
      "1,2,3,4\n",
      "[1, 2, 3, 4]\n"
     ]
    }
   ],
   "source": [
    "\"\"\"1. Write a program which accepts a sequence of comma-separated numbers from console and\n",
    "generate a list.\n",
    "\"\"\"\n",
    "\n",
    "userInput=input(\"Enter user input with comma separated values and press enter to exit :\\n\")\n",
    "userList =userInput.split(',')\n",
    "#print (userList)\n",
    "newList = []\n",
    "for i in userList:\n",
    "    try:\n",
    "        newList.append(int(i))\n",
    "    except:\n",
    "        newList.append(i)\n",
    "print (newList)"
   ]
  },
  {
   "cell_type": "code",
   "execution_count": 3,
   "metadata": {},
   "outputs": [
    {
     "name": "stdout",
     "output_type": "stream",
     "text": [
      "Enter the number of iteration :10\n",
      "\n",
      "* \n",
      "* * \n",
      "* * * \n",
      "* * * * \n",
      "* * * * * \n",
      "* * * * \n",
      "* * * \n",
      "* * \n",
      "* \n"
     ]
    }
   ],
   "source": [
    "\"\"\"\n",
    "2 Create the below pattern using nested for loop in Python.\n",
    "*\n",
    "* *\n",
    "* * *\n",
    "* * * *\n",
    "* * * * *\n",
    "* * * *\n",
    "* * *\n",
    "* *\n",
    "*\n",
    "\"\"\"\n",
    "\n",
    "itr = int(input(\"Enter the number of iteration :\"))\n",
    "for i in range(itr):\n",
    "    if i<=(len(range(itr))/2):\n",
    "        for j in range(0,i):\n",
    "            print(\"*\",end=' ')\n",
    "    else:\n",
    "        for j in range(itr,i,-1):\n",
    "            print(\"*\",end=' ')\n",
    "    print()"
   ]
  },
  {
   "cell_type": "code",
   "execution_count": 3,
   "metadata": {},
   "outputs": [
    {
     "name": "stdout",
     "output_type": "stream",
     "text": [
      "Enter the String :sandeep\n",
      "peednas"
     ]
    }
   ],
   "source": [
    "\"\"\"\n",
    "3. Write a Python program to reverse a word after accepting the input from the user.\n",
    "Sample Output:\n",
    "\n",
    "Input word: AcadGild\n",
    "Output: dilGdacA\n",
    "\"\"\"\n",
    "# first way\n",
    "userInput = input(\"Enter the String :\")\n",
    "for i in range(len(userInput)-1,-1,-1):\n",
    "    print(userInput[i],end='')\n"
   ]
  },
  {
   "cell_type": "code",
   "execution_count": 4,
   "metadata": {},
   "outputs": [
    {
     "name": "stdout",
     "output_type": "stream",
     "text": [
      "Enter the String :sandeep\n",
      "peednas\n"
     ]
    }
   ],
   "source": [
    "#Second way\n",
    "userInput = input(\"Enter the String :\")\n",
    "revList=list(reversed(userInput))\n",
    "revStr=\"\".join(revList)\n",
    "print(revStr)"
   ]
  },
  {
   "cell_type": "code",
   "execution_count": 6,
   "metadata": {},
   "outputs": [
    {
     "name": "stdout",
     "output_type": "stream",
     "text": [
      "Enter the String :sandeep\n",
      "peednas\n"
     ]
    }
   ],
   "source": [
    "####Third way##########\n",
    "userInput = input(\"Enter the String :\")\n",
    "newStr= userInput[::-1]\n",
    "print (newStr)"
   ]
  },
  {
   "cell_type": "code",
   "execution_count": 2,
   "metadata": {},
   "outputs": [
    {
     "name": "stdout",
     "output_type": "stream",
     "text": [
      "WE, THE PEOPLE OF INDIA,\n",
      "\thaving solemnly resolved to constitute India into a SOVEREIGN,!\n",
      "\t\tSOCIALIST, SECULAR, DEMOCRATIC\n",
      "\t\t REPUBLIC and to secure to all its citizens\n"
     ]
    }
   ],
   "source": [
    "\n",
    "\"\"\"\n",
    "4. Write a Python Program to print the given string in the format specified in the\n",
    "sample output.\n",
    "WE, THE PEOPLE OF INDIA, having solemnly resolved to constitute India into a SOVEREIGN,\n",
    "SOCIALIST, SECULAR, DEMOCRATIC REPUBLIC and to secure to all its citizens\n",
    "Sample Output:\n",
    "WE, THE PEOPLE OF INDIA,\n",
    "having solemnly resolved to constitute India into a SOVEREIGN, !\n",
    "SOCIALIST, SECULAR, DEMOCRATIC\n",
    "REPUBLIC and to secure to all its citizens\n",
    "\"\"\"\n",
    "\n",
    "print (\"WE, THE PEOPLE OF INDIA,\\n\\thaving solemnly resolved to constitute India into a SOVEREIGN,!\\n\\t\\tSOCIALIST, SECULAR, DEMOCRATIC\\n\\t\\t REPUBLIC and to secure to all its citizens\")"
   ]
  }
 ],
 "metadata": {
  "kernelspec": {
   "display_name": "Python 3",
   "language": "python",
   "name": "python3"
  },
  "language_info": {
   "codemirror_mode": {
    "name": "ipython",
    "version": 3
   },
   "file_extension": ".py",
   "mimetype": "text/x-python",
   "name": "python",
   "nbconvert_exporter": "python",
   "pygments_lexer": "ipython3",
   "version": "3.6.3"
  }
 },
 "nbformat": 4,
 "nbformat_minor": 2
}
