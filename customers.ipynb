{
 "cells": [
  {
   "cell_type": "code",
   "execution_count": 3,
   "metadata": {},
   "outputs": [
    {
     "name": "stdout",
     "output_type": "stream",
     "text": [
      "inside the validate function\n"
     ]
    }
   ],
   "source": [
    "class Customer:\n",
    "    customerList = [{\n",
    "        'custID': 111,\n",
    "        'custPin': \"sandy\",\n",
    "        'CustName': \"Sandeep\",\n",
    "        'CustBalance': 10000,\n",
    "        'CustAddress': 'Noida'\n",
    "    }, {\n",
    "        'custID': 222,\n",
    "        'CustName': \"Panghal\",\n",
    "        'custPin': \"Pangu\",\n",
    "        'CustBalance': 20000,\n",
    "        'CustAddress': \"faridabad\"\n",
    "    }, {\n",
    "        'custID': 333,\n",
    "        'custPin': \"Vihu\",\n",
    "        'CustName': \"Vihaan\",\n",
    "        'CustBalance': 30000,\n",
    "        'CustAddress': \"Hansi\"\n",
    "    }, {\n",
    "        'custID': 444,\n",
    "        'custPin': \"Aadi\",\n",
    "        'CustName': \"Advik\",\n",
    "        'CustBalance': 40000,\n",
    "        'CustAddress': \"Hisar\"\n",
    "    }]\n",
    "\n",
    "    def __init__(self,customerID,customerPin):\n",
    "        self.customerID = customerID\n",
    "        self.customerPin = customerPin\n",
    "\n",
    "    def getCustomerIndex(self,customerID):\n",
    "        i = 0\n",
    "        while i in range(len(Customer.customerList)):\n",
    "            if Customer.customerList[i].get(\"custID\") == self.customerID:\n",
    "                break;\n",
    "            else:\n",
    "                i = i+1\n",
    "        return i\n",
    "    def validateCustomer(self):\n",
    "        print (\"inside the validate function\")\n",
    "\n",
    "\n",
    "        for i in range(len(Customer.customerList)):\n",
    "\n",
    "            if Customer.customerList[i].get(\"custID\") == self.customerID:\n",
    "\n",
    "                if Customer.customerList[i].get(\"custPin\") == self.customerPin:\n",
    "\n",
    "                    return True\n",
    "                else :\n",
    "                    print (\"Customer Pin is incorrect\")\n",
    "                    return False\n",
    "        else :\n",
    "            print(\"Customer Id is wrong please try again\")\n",
    "\n",
    "\n",
    "if __name__ == \"__main__\":\n",
    "    cust1 = Customer(111,\"sandy\")\n",
    "    cust1.validateCustomer()\n"
   ]
  },
  {
   "cell_type": "code",
   "execution_count": 4,
   "metadata": {
    "collapsed": true
   },
   "outputs": [],
   "source": [
    "import os"
   ]
  },
  {
   "cell_type": "code",
   "execution_count": 7,
   "metadata": {},
   "outputs": [
    {
     "data": {
      "text/plain": [
       "'C:\\\\Users\\\\sapangha\\\\Assignment1-5'"
      ]
     },
     "execution_count": 7,
     "metadata": {},
     "output_type": "execute_result"
    }
   ],
   "source": [
    "os.getcwd()"
   ]
  },
  {
   "cell_type": "code",
   "execution_count": null,
   "metadata": {
    "collapsed": true
   },
   "outputs": [],
   "source": []
  },
  {
   "cell_type": "code",
   "execution_count": null,
   "metadata": {
    "collapsed": true
   },
   "outputs": [],
   "source": []
  }
 ],
 "metadata": {
  "kernelspec": {
   "display_name": "Python 3",
   "language": "python",
   "name": "python3"
  },
  "language_info": {
   "codemirror_mode": {
    "name": "ipython",
    "version": 3
   },
   "file_extension": ".py",
   "mimetype": "text/x-python",
   "name": "python",
   "nbconvert_exporter": "python",
   "pygments_lexer": "ipython3",
   "version": "3.6.3"
  }
 },
 "nbformat": 4,
 "nbformat_minor": 2
}
