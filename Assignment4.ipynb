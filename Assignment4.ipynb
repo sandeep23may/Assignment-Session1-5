{
 "cells": [
  {
   "cell_type": "code",
   "execution_count": 1,
   "metadata": {},
   "outputs": [
    {
     "name": "stdout",
     "output_type": "stream",
     "text": [
      "Insert the first Side :2\n",
      "Insert the Second Side: 3\n",
      "Insert the Third Side: 4\n",
      "Three sides of triangle are 2.0,3.0,4.0 :\n",
      "Area of triangle is : 2.9047375096555625\n"
     ]
    }
   ],
   "source": [
    "\"\"\"\n",
    "2.4. Problem Statement: PYTHON 4\n",
    "\n",
    "1.1 Write a Python Program(with class concepts) to find the area of the triangle using the below\n",
    "formula.\n",
    "area = (s*(s-a)*(s-b)*(s-c)) ** 0.5\n",
    "Function to take the length of the sides of triangle from user should be defined in the parent\n",
    "class and function to calculate the area should be defined in subclass.\n",
    "\n",
    "\"\"\"\n",
    "class Sides:\n",
    "    def insertSides(self):\n",
    "        first_side = float(input(\"Insert the first Side :\"))\n",
    "        second_side = float(input(\"Insert the Second Side: \"))\n",
    "        third_side = float(input(\"Insert the Third Side: \"))\n",
    "        return first_side,second_side,third_side\n",
    "    \n",
    "class Triangle(Sides):\n",
    "    def calculateArea(self,a,b,c):\n",
    "        s = (a + b + c)/2\n",
    "        area = (s*(s-a)*(s-b)*(s-c)) ** 0.5\n",
    "        return area\n",
    "\n",
    "triangle = Triangle()\n",
    "first_side,second_side,third_side = triangle.insertSides()\n",
    "print(\"Three sides of triangle are {},{},{} :\".format(first_side,second_side,third_side))\n",
    "print(\"Area of triangle is :\",triangle.calculateArea(first_side,second_side,third_side))\n"
   ]
  },
  {
   "cell_type": "markdown",
   "metadata": {},
   "source": [
    "1.2 Write a function filter_long_words() that takes a list of words and an integer n and returns\n",
    "the list of words that are longer than n."
   ]
  },
  {
   "cell_type": "code",
   "execution_count": 2,
   "metadata": {},
   "outputs": [
    {
     "name": "stdout",
     "output_type": "stream",
     "text": [
      "filtered word list:  ['Sandy', 'pangu', 'Meena']\n"
     ]
    }
   ],
   "source": [
    "class Words:\n",
    "    ### 1.2\n",
    "    def filter_long_words(self,word_list,max_char):\n",
    "        new_list = []\n",
    "        for word in word_list:\n",
    "            if len(word) > max_char:\n",
    "                new_list.append(word)\n",
    "        return new_list\n",
    "    ### 1.2 another way\n",
    "    def filter_long_words1(self,word_list,max_char):\n",
    "        return [word for word in wordList if len(word) > max_char]\n",
    "    #### 2.1\n",
    "    def map_word_to_length (self,word_list):\n",
    "        return [len(word) for word in wordList]\n",
    "    ### 2.2\n",
    "    def checkVowel(self,char):\n",
    "        if char in ['a','e','i','o','u']:\n",
    "            return True\n",
    "        else:\n",
    "            return False\n",
    "    \n",
    "wordList = [\"Sandy\",\"pangu\",\"san\",\"pane\",\"Meena\"]\n",
    "word = Words()\n",
    "max_char = 4\n",
    "#### ### 1.2 First way\n",
    "word.filter_long_words(wordList,max_char)\n",
    "### 1.2 Second way\n",
    "print (\"filtered word list: \",word.filter_long_words1(wordList,4))"
   ]
  },
  {
   "cell_type": "markdown",
   "metadata": {},
   "source": [
    "2.1 Write a Python program using function concept that maps list of words into a list of integers\n",
    "representing the lengths of the corresponding words.\n",
    "Hint: If a list [ ab,cde,erty] is passed on to the python function output should come as [2,3,4]\n",
    "Here 2,3 and 4 are the lengths of the words in the list.\n"
   ]
  },
  {
   "cell_type": "code",
   "execution_count": 3,
   "metadata": {},
   "outputs": [
    {
     "name": "stdout",
     "output_type": "stream",
     "text": [
      "list ['Sandy', 'pangu', 'san', 'pane', 'Meena'] mapped to [5, 5, 3, 4, 5]\n"
     ]
    }
   ],
   "source": [
    "print (\"list {0} mapped to {1}\".format(wordList,word.map_word_to_length(wordList)) )"
   ]
  },
  {
   "cell_type": "markdown",
   "metadata": {},
   "source": [
    "2.2 Write a Python function which takes a character (i.e. a string of length 1) and returns True if\n",
    "it is a vowel, False otherwise."
   ]
  },
  {
   "cell_type": "code",
   "execution_count": 4,
   "metadata": {},
   "outputs": [
    {
     "name": "stdout",
     "output_type": "stream",
     "text": [
      "Checking the vowel : False\n",
      "Checking the vowel : False\n"
     ]
    }
   ],
   "source": [
    "f = lambda char : True if char in ['a','e','i','o','u'] else False\n",
    "print (\"Checking the vowel :\",f(\"b\"))\n",
    "#### 2.2 Second way\n",
    "print (\"Checking the vowel :\",word.checkVowel(\"b\"))"
   ]
  },
  {
   "cell_type": "code",
   "execution_count": null,
   "metadata": {
    "collapsed": true
   },
   "outputs": [],
   "source": []
  }
 ],
 "metadata": {
  "kernelspec": {
   "display_name": "Python 3",
   "language": "python",
   "name": "python3"
  },
  "language_info": {
   "codemirror_mode": {
    "name": "ipython",
    "version": 3
   },
   "file_extension": ".py",
   "mimetype": "text/x-python",
   "name": "python",
   "nbconvert_exporter": "python",
   "pygments_lexer": "ipython3",
   "version": "3.6.3"
  }
 },
 "nbformat": 4,
 "nbformat_minor": 2
}
