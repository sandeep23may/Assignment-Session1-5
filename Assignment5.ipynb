{
 "cells": [
  {
   "cell_type": "code",
   "execution_count": 4,
   "metadata": {},
   "outputs": [
    {
     "name": "stdout",
     "output_type": "stream",
     "text": [
      "Enter the number :3\n",
      "Enter the divisor :5\n",
      "Result is :  0.6\n"
     ]
    }
   ],
   "source": [
    "\"\"\"\n",
    "2.5. Problem Statement: PYTHON 5\n",
    "1. Write a function to compute 5/0 and use try/except to catch the exceptions.\n",
    "\"\"\"\n",
    "def devidebynumber(number,divisor):\n",
    "    return number/divisor\n",
    "\n",
    "try:\n",
    "    num = float(input(\"Enter the number :\"))\n",
    "    divisor = float (input(\"Enter the divisor :\"))\n",
    "    print (\"Result is : \",devidebynumber(num ,divisor))\n",
    "except ZeroDivisionError:\n",
    "    print (\"Divisor cant be zero\")\n",
    "except ValueError:\n",
    "    print (\"provide valid numeric values\")\n",
    "except:\n",
    "    print(\"some other error\")\n",
    "\n"
   ]
  },
  {
   "cell_type": "code",
   "execution_count": 6,
   "metadata": {},
   "outputs": [
    {
     "name": "stdout",
     "output_type": "stream",
     "text": [
      "Americans play Baseball.\n",
      "Americans play Cricket.\n",
      "Americans watch Baseball.\n",
      "Americans watch Cricket.\n",
      "Indians play Baseball.\n",
      "Indians play Cricket.\n",
      "Indians watch Baseball.\n",
      "Indians watch Cricket.\n"
     ]
    }
   ],
   "source": [
    "\"\"\"\n",
    "2. Implement a Python program to generate all sentences where subject is in [\"Americans\",\n",
    "\"Indians\"] and verb is in [\"Play\", \"watch\"] and the object is in [\"Baseball\",\"cricket\"].\n",
    "Hint: Subject,Verb and Object should be declared in the program as shown below.\n",
    "subjects=[\"Americans \",\"Indians\"]\n",
    "verbs=[\"play\",\"watch\"]\n",
    "objects=[\"Baseball\",\"Cricket\"]\n",
    "Output should come as below:\n",
    "Americans play Baseball.\n",
    "Americans play Cricket.\n",
    "\n",
    "Americans watch Baseball.\n",
    "Americans watch Cricket.\n",
    "Indians play Baseball.\n",
    "Indians play Cricket.\n",
    "Indians watch Baseball.\n",
    "Indians watch Cricket.\n",
    "NOTE:ThesolutionsharedthroughGithubshouldcontainthesource codeusedandthe\n",
    "screenshotoftheoutput.\n",
    "\"\"\"\n",
    "\n",
    "############################\n",
    "subjects = [\"Americans \",\"Indians \"]\n",
    "verbs = [\"play\",\"watch\"]\n",
    "objects = [\"Baseball\",\"Cricket\"]\n",
    "\n",
    "for subject in subjects:\n",
    "    for verb in verbs:\n",
    "        for obj in objects:\n",
    "            print (\"{0}{1} {2}.\".format(subject,verb,obj))\n"
   ]
  },
  {
   "cell_type": "code",
   "execution_count": null,
   "metadata": {
    "collapsed": true
   },
   "outputs": [],
   "source": []
  }
 ],
 "metadata": {
  "kernelspec": {
   "display_name": "Python 3",
   "language": "python",
   "name": "python3"
  },
  "language_info": {
   "codemirror_mode": {
    "name": "ipython",
    "version": 3
   },
   "file_extension": ".py",
   "mimetype": "text/x-python",
   "name": "python",
   "nbconvert_exporter": "python",
   "pygments_lexer": "ipython3",
   "version": "3.6.3"
  }
 },
 "nbformat": 4,
 "nbformat_minor": 2
}
