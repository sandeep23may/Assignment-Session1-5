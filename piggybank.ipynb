{
 "cells": [
  {
   "cell_type": "markdown",
   "metadata": {},
   "source": [
    "First Create a customers module using customers.ipynb file then user can run this file."
   ]
  },
  {
   "cell_type": "code",
   "execution_count": 1,
   "metadata": {},
   "outputs": [
    {
     "ename": "ModuleNotFoundError",
     "evalue": "No module named 'customers'",
     "output_type": "error",
     "traceback": [
      "\u001b[1;31m---------------------------------------------------------------------------\u001b[0m",
      "\u001b[1;31mModuleNotFoundError\u001b[0m                       Traceback (most recent call last)",
      "\u001b[1;32m<ipython-input-1-d78651e7449e>\u001b[0m in \u001b[0;36m<module>\u001b[1;34m()\u001b[0m\n\u001b[1;32m----> 1\u001b[1;33m \u001b[1;32mimport\u001b[0m \u001b[0mcustomers\u001b[0m\u001b[1;33m\u001b[0m\u001b[0m\n\u001b[0m\u001b[0;32m      2\u001b[0m \u001b[1;32mclass\u001b[0m \u001b[0mBank\u001b[0m\u001b[1;33m(\u001b[0m\u001b[0mcustomers\u001b[0m\u001b[1;33m.\u001b[0m\u001b[0mCustomer\u001b[0m\u001b[1;33m)\u001b[0m\u001b[1;33m:\u001b[0m\u001b[1;33m\u001b[0m\u001b[0m\n\u001b[0;32m      3\u001b[0m \u001b[1;33m\u001b[0m\u001b[0m\n\u001b[0;32m      4\u001b[0m     \u001b[1;32mdef\u001b[0m \u001b[0m__init__\u001b[0m\u001b[1;33m(\u001b[0m\u001b[0mself\u001b[0m\u001b[1;33m,\u001b[0m\u001b[0mcustomerid\u001b[0m\u001b[1;33m,\u001b[0m\u001b[0mcustomerpin\u001b[0m\u001b[1;33m)\u001b[0m\u001b[1;33m:\u001b[0m\u001b[1;33m\u001b[0m\u001b[0m\n\u001b[0;32m      5\u001b[0m         \u001b[0msuper\u001b[0m\u001b[1;33m(\u001b[0m\u001b[1;33m)\u001b[0m\u001b[1;33m.\u001b[0m\u001b[0m__init__\u001b[0m\u001b[1;33m(\u001b[0m\u001b[0mcustomerid\u001b[0m\u001b[1;33m,\u001b[0m\u001b[0mcustomerpin\u001b[0m\u001b[1;33m)\u001b[0m\u001b[1;33m\u001b[0m\u001b[0m\n",
      "\u001b[1;31mModuleNotFoundError\u001b[0m: No module named 'customers'"
     ]
    }
   ],
   "source": [
    "import customers\n",
    "class Bank(customers.Customer):\n",
    "\n",
    "    def __init__(self,customerid,customerpin):\n",
    "        super().__init__(customerid,customerpin)\n",
    "\n",
    "\n",
    "    def depositeMoney(self,customerid,amount):\n",
    "        i = self.getCustomerIndex(customerid)\n",
    "        Bank.customerList[i][\"CustBalance\"] = amount + Bank.customerList[i][\"CustBalance\"]\n",
    "        print (\"After adding ,your updated balance is {0} rupees \".format(Bank.customerList[i][\"CustBalance\"]))\n",
    "\n",
    "\n",
    "    def widrawMoney(self,customerid,amount):\n",
    "        i = self.getCustomerIndex(customerid)\n",
    "        if(Bank.customerList[i][\"CustBalance\"] == Bank.customerList[i][\"CustBalance\"] > amount):\n",
    "            Bank.customerList[i][\"CustBalance\"] = Bank.customerList[i][\"CustBalance\"] - amount\n",
    "            print (\"After withdrawl , balance amount is {0} rupees \".format(Bank.customerList[i][\"CustBalance\"]))\n",
    "        else:\n",
    "            print(\"You dont have sufficient balance\")\n",
    "\n",
    "    def checkBalance(self,customerid):\n",
    "        i = self.getCustomerIndex(customerid)\n",
    "        print (\"Amount in your account is :\",Bank.customerList[i][\"CustBalance\"])\n",
    "\n",
    "    def accountDetails(self,customerid):\n",
    "        i = self.getCustomerIndex(customerid)\n",
    "        #print(\"Customer Name is \"+Bank.customerList[i][\"CustName\"] +\" staying at \"+  Bank.customerList[i][\"CustAddress\"]+\" have total balance \" +Bank.customerList[i][\"CustBalance\"])\n",
    "        print (\"Customer Name is {} staying at {}  have total balance {}\".format(Bank.customerList[i][\"CustName\"],Bank.customerList[i][\"CustAddress\"],Bank.customerList[i][\"CustBalance\"]))\n",
    "\n",
    "if __name__ == \"__main__\":\n",
    "    bank1 = Bank(111,\"sandy\")\n",
    "    bank1.validateCustomer()\n",
    "    bank1.depositeMoney(111,23000)\n",
    "    bank1.widrawMoney(111,2000)\n",
    "    bank1.checkBalance(111)\n",
    "    bank1.accountDetails(111,)\n",
    "\n"
   ]
  }
 ],
 "metadata": {
  "kernelspec": {
   "display_name": "Python 3",
   "language": "python",
   "name": "python3"
  },
  "language_info": {
   "codemirror_mode": {
    "name": "ipython",
    "version": 3
   },
   "file_extension": ".py",
   "mimetype": "text/x-python",
   "name": "python",
   "nbconvert_exporter": "python",
   "pygments_lexer": "ipython3",
   "version": "3.6.3"
  }
 },
 "nbformat": 4,
 "nbformat_minor": 2
}
