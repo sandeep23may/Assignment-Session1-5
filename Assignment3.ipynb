{
 "cells": [
  {
   "cell_type": "markdown",
   "metadata": {},
   "source": [
    "1.1. Write a Python Program to implement your own myreduce() function which works exactly\n",
    "like Python's built-in function reduce()"
   ]
  },
  {
   "cell_type": "code",
   "execution_count": 1,
   "metadata": {},
   "outputs": [
    {
     "data": {
      "text/plain": [
       "145"
      ]
     },
     "execution_count": 1,
     "metadata": {},
     "output_type": "execute_result"
    }
   ],
   "source": [
    "from functools import reduce\n",
    "lst = [10,20,11,25,21,30,28]\n",
    "def myreduce2(fn1,lst):\n",
    "    fNbr = lst[0]\n",
    "    for i in lst[1:]:\n",
    "        fNbr = fn1(fNbr,i)\n",
    "    return fNbr \n",
    "\n",
    "#myreduce(findMax,lst)\n",
    "#myreduce(findMin,lst)\n",
    "\n",
    "def do_sum(x1, x2):\n",
    "    return x1 + x2\n",
    "\n",
    "myreduce2(do_sum,lst)"
   ]
  },
  {
   "cell_type": "markdown",
   "metadata": {},
   "source": [
    "1.2. Write a Python program to implement your own myfilter() function which works exactly\n",
    "like Python's built-in function filter()"
   ]
  },
  {
   "cell_type": "code",
   "execution_count": 2,
   "metadata": {},
   "outputs": [
    {
     "data": {
      "text/plain": [
       "[10, 20, 30, 28]"
      ]
     },
     "execution_count": 2,
     "metadata": {},
     "output_type": "execute_result"
    }
   ],
   "source": [
    "def even_check(num):\n",
    "    if num%2 ==0:\n",
    "        return True\n",
    "def myfilter(fn,lst):\n",
    "    lst2 = []\n",
    "    for i in lst[:]:\n",
    "        if fn(i) == True:\n",
    "            lst2.append(i)\n",
    "    return lst2\n",
    "myfilter(even_check,lst)"
   ]
  },
  {
   "cell_type": "markdown",
   "metadata": {},
   "source": [
    "2. Implement List comprehensions to produce the following lists.\n",
    "Write List comprehensions to produce the following Lists.\n",
    "['A', 'C', 'A', 'D', 'G', 'I', ’L’, ‘ D’]\n",
    "\n",
    "['x', 'xx', 'xxx', 'xxxx', 'y', 'yy', 'yyy', 'yyyy', 'z', 'zz', 'zzz', 'zzzz']\n",
    "\n",
    "['x', 'y', 'z', 'xx', 'yy', 'zz', 'xxx', 'yyy', 'zzz', 'xxxx', 'yyyy', 'zzzz']\n",
    "\n",
    "[[2], [3], [4], [3], [4], [5], [4], [5], [6]] [[2, 3, 4, 5], [3, 4, 5, 6], [4,5, 6, 7], [5, 6, 7, 8]]\n",
    "\n",
    "[(1, 1), (2, 1), (3, 1), (1, 2), (2, 2), (3, 2), (1, 3), (2, 3), (3, 3)]"
   ]
  },
  {
   "cell_type": "code",
   "execution_count": 1,
   "metadata": {},
   "outputs": [
    {
     "name": "stdout",
     "output_type": "stream",
     "text": [
      "['A', 'C', 'A', 'D', 'G', 'I', 'L', 'D']\n"
     ]
    }
   ],
   "source": [
    "#### Still Need to implement\n",
    "list1 = [a for a in \"ACADGILD\"]\n",
    "print (list1)\n"
   ]
  },
  {
   "cell_type": "code",
   "execution_count": 2,
   "metadata": {},
   "outputs": [
    {
     "name": "stdout",
     "output_type": "stream",
     "text": [
      "['x', 'xx', 'xxx', 'xxxx', 'y', 'yy', 'yyy', 'yyyy', 'z', 'zz', 'zzz', 'zzzz']\n"
     ]
    }
   ],
   "source": [
    "list2 = [ item*num for item in 'xyz' for num in range(1,5) ]\n",
    "print (list2)"
   ]
  },
  {
   "cell_type": "code",
   "execution_count": 3,
   "metadata": {},
   "outputs": [
    {
     "name": "stdout",
     "output_type": "stream",
     "text": [
      "['x', 'y', 'z', 'xx', 'yy', 'zz', 'xxx', 'yyy', 'zzz', 'xxxx', 'yyyy', 'zzzz']\n"
     ]
    }
   ],
   "source": [
    "list3 = [ item*num for num in range(1,5) for item in 'xyz'  ]\n",
    "print (list3)"
   ]
  },
  {
   "cell_type": "code",
   "execution_count": 4,
   "metadata": {},
   "outputs": [
    {
     "name": "stdout",
     "output_type": "stream",
     "text": [
      "[[2], [3], [4], [3], [4], [5], [4], [5], [6]]\n"
     ]
    }
   ],
   "source": [
    "\n",
    "list4 = [[num1+num2] for num1 in range(0,3) for num2 in range(2,5)]\n",
    "print (list4)"
   ]
  },
  {
   "cell_type": "code",
   "execution_count": 5,
   "metadata": {},
   "outputs": [
    {
     "name": "stdout",
     "output_type": "stream",
     "text": [
      "[[2, 3, 4, 5], [3, 4, 5, 6], [4, 5, 6, 7], [5, 6, 7, 8]]\n"
     ]
    }
   ],
   "source": [
    "list5 = [ [item+num for item in range(2,6)] for num in range(0,4)]\n",
    "print (list5)"
   ]
  },
  {
   "cell_type": "code",
   "execution_count": 6,
   "metadata": {},
   "outputs": [
    {
     "name": "stdout",
     "output_type": "stream",
     "text": [
      "[(1, 1), (1, 2), (1, 3), (2, 1), (2, 2), (2, 3), (3, 1), (3, 2), (3, 3)]\n"
     ]
    }
   ],
   "source": [
    "\n",
    "list6 = [(num2,num1) for num2 in range(1,4) for num1 in range(1,4)]\n",
    "print (list6)"
   ]
  },
  {
   "cell_type": "markdown",
   "metadata": {},
   "source": [
    "Implement a function longestWord() that takes a list of words and returns the longest one."
   ]
  },
  {
   "cell_type": "code",
   "execution_count": 14,
   "metadata": {},
   "outputs": [
    {
     "name": "stdout",
     "output_type": "stream",
     "text": [
      "longest word in the list is  abcdefjh2344\n"
     ]
    },
    {
     "data": {
      "text/plain": [
       "'def longestWord(word1,word2):\\n    if len(word1)>len(word2):\\n        return word1\\n    else:\\n        return word2\\n        '"
      ]
     },
     "execution_count": 14,
     "metadata": {},
     "output_type": "execute_result"
    }
   ],
   "source": [
    "wordLst = [\"sandeep\",\"panghal\",\"abcdefjh2344\",\"sandy\",\"pangu\"]\n",
    "def longestWord1(wordLst):\n",
    "    longest = reduce(lambda word1,word2: word1 if len(word1)>len(word2) else word2,wordLst)\n",
    "    return longest\n",
    "\n",
    "print (\"longest word in the list is \",longestWord1(wordLst))\n",
    "\n",
    "\n",
    "\n",
    "\n",
    "#print (str(reduce(lambda word1,word2 : word1 if len(word1)>len(word2) else word2,wordLst)))\n",
    "\n",
    "\"\"\"def longestWord(word1,word2):\n",
    "    if len(word1)>len(word2):\n",
    "        return word1\n",
    "    else:\n",
    "        return word2\n",
    "        \"\"\""
   ]
  },
  {
   "cell_type": "code",
   "execution_count": null,
   "metadata": {
    "collapsed": true
   },
   "outputs": [],
   "source": []
  }
 ],
 "metadata": {
  "kernelspec": {
   "display_name": "Python 3",
   "language": "python",
   "name": "python3"
  },
  "language_info": {
   "codemirror_mode": {
    "name": "ipython",
    "version": 3
   },
   "file_extension": ".py",
   "mimetype": "text/x-python",
   "name": "python",
   "nbconvert_exporter": "python",
   "pygments_lexer": "ipython3",
   "version": "3.6.3"
  }
 },
 "nbformat": 4,
 "nbformat_minor": 2
}
