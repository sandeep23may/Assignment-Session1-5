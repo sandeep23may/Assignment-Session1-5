{
 "cells": [
  {
   "cell_type": "code",
   "execution_count": null,
   "metadata": {
    "collapsed": true
   },
   "outputs": [],
   "source": [
    "First Create customers and piggybank modules using customers.ipynb and piggybank.ipynb file then user can ran this files."
   ]
  },
  {
   "cell_type": "code",
   "execution_count": 1,
   "metadata": {},
   "outputs": [
    {
     "ename": "ModuleNotFoundError",
     "evalue": "No module named 'piggyBank'",
     "output_type": "error",
     "traceback": [
      "\u001b[1;31m---------------------------------------------------------------------------\u001b[0m",
      "\u001b[1;31mModuleNotFoundError\u001b[0m                       Traceback (most recent call last)",
      "\u001b[1;32m<ipython-input-1-72317028b9f1>\u001b[0m in \u001b[0;36m<module>\u001b[1;34m()\u001b[0m\n\u001b[1;32m----> 1\u001b[1;33m \u001b[1;32mimport\u001b[0m \u001b[0mpiggyBank\u001b[0m\u001b[1;33m\u001b[0m\u001b[0m\n\u001b[0m\u001b[0;32m      2\u001b[0m \u001b[1;33m\u001b[0m\u001b[0m\n\u001b[0;32m      3\u001b[0m \u001b[1;33m\u001b[0m\u001b[0m\n\u001b[0;32m      4\u001b[0m \u001b[1;32mdef\u001b[0m \u001b[0mperformBanking\u001b[0m\u001b[1;33m(\u001b[0m\u001b[1;33m)\u001b[0m\u001b[1;33m:\u001b[0m\u001b[1;33m\u001b[0m\u001b[0m\n\u001b[0;32m      5\u001b[0m     \u001b[0mcount\u001b[0m \u001b[1;33m=\u001b[0m \u001b[1;36m0\u001b[0m\u001b[1;33m\u001b[0m\u001b[0m\n",
      "\u001b[1;31mModuleNotFoundError\u001b[0m: No module named 'piggyBank'"
     ]
    }
   ],
   "source": [
    "import piggyBank\n",
    "\n",
    "\n",
    "def performBanking():\n",
    "    count = 0\n",
    "    while True:\n",
    "        try:\n",
    "            customerid = int(input(\"Enter Customer Id: \"))\n",
    "\n",
    "        except :\n",
    "            print (\"customer id is wrong ,please provide valid customer id\")\n",
    "            count += 1\n",
    "            break\n",
    "        customerpin = input(\"Enter Customer Pin: \")\n",
    "        cust1 = piggyBank.Bank(customerid,customerpin)\n",
    "        if cust1.validateCustomer() == True:\n",
    "            ##count +=1\n",
    "            print (\"-\"*30,\"START\",\"-\"*30)\n",
    "            action = input(\"Enter Add ,Withdraw , Check : \")\n",
    "            if \"ADD\" ==  action.upper():\n",
    "                amount = int(input(\"Please enter deposite amount :\"))\n",
    "                cust1.depositeMoney(customerid,amount)\n",
    "                break\n",
    "\n",
    "            elif \"WITHDRAW\" == action.upper():\n",
    "                amount = int(input(\"Please enter Withdrawl amount :\"))\n",
    "                cust1.widrawMoney(customerid, amount)\n",
    "                break\n",
    "\n",
    "            elif \"CHECK\" == action.upper():\n",
    "                cust1.checkBalance(customerid)\n",
    "                break\n",
    "\n",
    "            else:\n",
    "                print(\"Provide Valid action\")\n",
    "                break\n",
    "        else:\n",
    "            print(\"Please Enter correct Cust Id and PIN\")\n",
    "            count += 1\n",
    "\n",
    "        if count == 3:\n",
    "            print (\"Max retry count reached to 3 so exiting\")\n",
    "            break\n",
    "\n",
    "\n",
    "while True:\n",
    "    performBanking()\n",
    "    customer_exit = input(\"Do you want to continue (Press Y or N) \")\n",
    "    if customer_exit.upper() != 'Y':\n",
    "        break"
   ]
  }
 ],
 "metadata": {
  "kernelspec": {
   "display_name": "Python 3",
   "language": "python",
   "name": "python3"
  },
  "language_info": {
   "codemirror_mode": {
    "name": "ipython",
    "version": 3
   },
   "file_extension": ".py",
   "mimetype": "text/x-python",
   "name": "python",
   "nbconvert_exporter": "python",
   "pygments_lexer": "ipython3",
   "version": "3.6.3"
  }
 },
 "nbformat": 4,
 "nbformat_minor": 2
}
